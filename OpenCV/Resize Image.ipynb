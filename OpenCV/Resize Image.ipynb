{
 "cells": [
  {
   "cell_type": "code",
   "execution_count": 1,
   "id": "13e9e2b7",
   "metadata": {},
   "outputs": [
    {
     "name": "stdout",
     "output_type": "stream",
     "text": [
      "Requirement already satisfied: imutils in c:\\users\\sansk\\appdata\\local\\programs\\python\\python39\\lib\\site-packages (0.5.4)\n"
     ]
    }
   ],
   "source": [
    "!pip install imutils"
   ]
  },
  {
   "cell_type": "code",
   "execution_count": 2,
   "id": "ebfdb653-dc86-49da-815b-a81bb967b0b1",
   "metadata": {},
   "outputs": [],
   "source": [
    "import sys\n",
    "sys.path.append(\"C:\\\\users\\\\sansk\\\\appdata\\\\local\\\\programs\\\\python\\\\python39\\\\lib\\\\site-packages\")"
   ]
  },
  {
   "cell_type": "code",
   "execution_count": 3,
   "id": "e19307a8-e797-4245-93dd-a55f006a164d",
   "metadata": {},
   "outputs": [],
   "source": [
    "import imutils"
   ]
  },
  {
   "cell_type": "code",
   "execution_count": null,
   "id": "78d57612-a269-4425-b65a-94467da3e94f",
   "metadata": {},
   "outputs": [],
   "source": [
    "# Resize an Image\n",
    "\n",
    "import cv2\n",
    "import imutils\n",
    "\n",
    "img = cv2.imread(\"C:\\\\Users\\\\sansk\\\\OneDrive\\\\Desktop\\\\Projects\\\\IITB OpenCV\\\\Images\\\\pug.jpg\")\n",
    "\n",
    "# It takes height and width of image and reshapes to 500x500\n",
    "img_resize = cv2.resize(img, (700,700))\n",
    "\n",
    "img_resize1 = imutils.resize(img, width = 900)\n",
    "\n",
    "cv2.imshow('Original', img)\n",
    "cv2.imshow('Reshape', img_resize)\n",
    "cv2.imshow('Reshape1', img_resize1)\n",
    "\n",
    "# press any key with 0 wait time\n",
    "cv2.waitKey(0)\n",
    "# Close all imageframe\n",
    "cv2.destroyAllWindows()"
   ]
  },
  {
   "cell_type": "code",
   "execution_count": null,
   "id": "660e1a80-2041-42f9-bc39-015c9ea2265b",
   "metadata": {},
   "outputs": [],
   "source": []
  }
 ],
 "metadata": {
  "kernelspec": {
   "display_name": "Python 3 (ipykernel)",
   "language": "python",
   "name": "python3"
  },
  "language_info": {
   "codemirror_mode": {
    "name": "ipython",
    "version": 3
   },
   "file_extension": ".py",
   "mimetype": "text/x-python",
   "name": "python",
   "nbconvert_exporter": "python",
   "pygments_lexer": "ipython3",
   "version": "3.11.1"
  }
 },
 "nbformat": 4,
 "nbformat_minor": 5
}
