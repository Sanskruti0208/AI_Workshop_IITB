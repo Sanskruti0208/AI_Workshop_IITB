{
 "cells": [
  {
   "cell_type": "code",
   "execution_count": 1,
   "metadata": {
    "id": "B8VwNdla0U1Z"
   },
   "outputs": [],
   "source": [
    "import cv2"
   ]
  },
  {
   "cell_type": "code",
   "execution_count": 2,
   "metadata": {
    "id": "MpwRBbJF0cto"
   },
   "outputs": [],
   "source": [
    "import tensorflow as tf"
   ]
  },
  {
   "cell_type": "code",
   "execution_count": 3,
   "metadata": {
    "id": "azAQ8ryg0fHx"
   },
   "outputs": [],
   "source": [
    "import keras"
   ]
  },
  {
   "cell_type": "code",
   "execution_count": 4,
   "metadata": {
    "id": "CAuFRZER0k1r"
   },
   "outputs": [],
   "source": [
    "const_1 = tf.constant(0)\n"
   ]
  },
  {
   "cell_type": "code",
   "execution_count": 5,
   "metadata": {
    "colab": {
     "base_uri": "https://localhost:8080/"
    },
    "id": "O8BQt4M80lj3",
    "outputId": "c90ead2a-29ca-4d81-a52b-cfaaef1d5eb9"
   },
   "outputs": [
    {
     "data": {
      "text/plain": [
       "TensorShape([])"
      ]
     },
     "execution_count": 5,
     "metadata": {},
     "output_type": "execute_result"
    }
   ],
   "source": [
    "const_1.shape"
   ]
  },
  {
   "cell_type": "code",
   "execution_count": 6,
   "metadata": {
    "colab": {
     "base_uri": "https://localhost:8080/"
    },
    "id": "5b5TXJKe1XNq",
    "outputId": "6e2f2444-345d-43b9-ffd3-cc5e56fd5100"
   },
   "outputs": [
    {
     "data": {
      "text/plain": [
       "0"
      ]
     },
     "execution_count": 6,
     "metadata": {},
     "output_type": "execute_result"
    }
   ],
   "source": [
    "const_1.numpy()\n"
   ]
  },
  {
   "cell_type": "code",
   "execution_count": 7,
   "metadata": {
    "id": "6HsEcVVB1eye"
   },
   "outputs": [],
   "source": [
    "const_2 = tf.constant([10,20,30,40,50,60,70,80])\n"
   ]
  },
  {
   "cell_type": "code",
   "execution_count": 8,
   "metadata": {
    "colab": {
     "base_uri": "https://localhost:8080/"
    },
    "id": "SzkjfDAN1hVB",
    "outputId": "36559798-0e45-4271-e657-11e4e79dc4df"
   },
   "outputs": [
    {
     "data": {
      "text/plain": [
       "TensorShape([8])"
      ]
     },
     "execution_count": 8,
     "metadata": {},
     "output_type": "execute_result"
    }
   ],
   "source": [
    "const_2.shape\n"
   ]
  },
  {
   "cell_type": "code",
   "execution_count": 9,
   "metadata": {
    "colab": {
     "base_uri": "https://localhost:8080/"
    },
    "id": "CYFe26vs1kmb",
    "outputId": "20b29103-bd33-47ed-e95f-c72a79928191"
   },
   "outputs": [
    {
     "data": {
      "text/plain": [
       "array([10, 20, 30, 40, 50, 60, 70, 80])"
      ]
     },
     "execution_count": 9,
     "metadata": {},
     "output_type": "execute_result"
    }
   ],
   "source": [
    "const_2.numpy()\n"
   ]
  },
  {
   "cell_type": "code",
   "execution_count": 10,
   "metadata": {
    "id": "ihBckfOA1moM"
   },
   "outputs": [],
   "source": [
    "const_3 = tf.constant([[10,20,30,40,50,60,70],\n",
    "                      [10,20,30,40,50,60,70],\n",
    "                      [10,20,30,40,50,60,70]])"
   ]
  },
  {
   "cell_type": "code",
   "execution_count": 11,
   "metadata": {
    "colab": {
     "base_uri": "https://localhost:8080/"
    },
    "id": "Qy18iWGl1q8F",
    "outputId": "99b3dc09-75d2-463d-86a4-40235f5dc8c9"
   },
   "outputs": [
    {
     "data": {
      "text/plain": [
       "TensorShape([3, 7])"
      ]
     },
     "execution_count": 11,
     "metadata": {},
     "output_type": "execute_result"
    }
   ],
   "source": [
    "const_3.shape\n"
   ]
  },
  {
   "cell_type": "code",
   "execution_count": 12,
   "metadata": {
    "colab": {
     "base_uri": "https://localhost:8080/"
    },
    "id": "jLC_VySo186h",
    "outputId": "023ef971-4c0e-46a4-da6b-b2a19fc4fedf"
   },
   "outputs": [
    {
     "data": {
      "text/plain": [
       "array([[10, 20, 30, 40, 50, 60, 70],\n",
       "       [10, 20, 30, 40, 50, 60, 70],\n",
       "       [10, 20, 30, 40, 50, 60, 70]])"
      ]
     },
     "execution_count": 12,
     "metadata": {},
     "output_type": "execute_result"
    }
   ],
   "source": [
    "const_3.numpy()\n"
   ]
  },
  {
   "cell_type": "code",
   "execution_count": 13,
   "metadata": {
    "id": "g37n3_it2F_D"
   },
   "outputs": [],
   "source": [
    "const_4 =  tf.constant([[[10,20,30,40,50,60,70],\n",
    "                       [10,20,30,40,50,60,70],\n",
    "                       [10,20,30,40,50,60,70],\n",
    "\n",
    "                       [10,20,30,40,50,60,70],\n",
    "                       [10,20,30,40,50,60,70],\n",
    "                       [10,20,30,40,50,60,70]]])"
   ]
  },
  {
   "cell_type": "code",
   "execution_count": 14,
   "metadata": {
    "colab": {
     "base_uri": "https://localhost:8080/"
    },
    "id": "-nPaXcx42KB-",
    "outputId": "5bdd9d60-8c0f-495c-d48d-3a63063d7224"
   },
   "outputs": [
    {
     "data": {
      "text/plain": [
       "TensorShape([1, 6, 7])"
      ]
     },
     "execution_count": 14,
     "metadata": {},
     "output_type": "execute_result"
    }
   ],
   "source": [
    "const_4.shape    #3 dimension(A tensor)\n"
   ]
  },
  {
   "cell_type": "code",
   "execution_count": 15,
   "metadata": {
    "colab": {
     "base_uri": "https://localhost:8080/"
    },
    "id": "O2xyce4G2Mqn",
    "outputId": "8bd29673-9b90-4aa6-9139-24e1dd8aa235"
   },
   "outputs": [
    {
     "data": {
      "text/plain": [
       "array([[[10, 20, 30, 40, 50, 60, 70],\n",
       "        [10, 20, 30, 40, 50, 60, 70],\n",
       "        [10, 20, 30, 40, 50, 60, 70],\n",
       "        [10, 20, 30, 40, 50, 60, 70],\n",
       "        [10, 20, 30, 40, 50, 60, 70],\n",
       "        [10, 20, 30, 40, 50, 60, 70]]])"
      ]
     },
     "execution_count": 15,
     "metadata": {},
     "output_type": "execute_result"
    }
   ],
   "source": [
    "const_4.numpy()\n"
   ]
  },
  {
   "cell_type": "code",
   "execution_count": 16,
   "metadata": {
    "id": "PY2XnRoq2O-h"
   },
   "outputs": [],
   "source": [
    "#This is N-Dimentional representation of an Numpy Array Representing Various Ranks Like:\n",
    "#scalar : rank =0, vector : rank=1, matrix: rank=2, tensor:3 or more\n"
   ]
  },
  {
   "cell_type": "code",
   "execution_count": 17,
   "metadata": {
    "colab": {
     "base_uri": "https://localhost:8080/"
    },
    "id": "YSx4Ip8-2tRK",
    "outputId": "9ea55757-ef7c-42cc-ec9e-0015ab80bdaa"
   },
   "outputs": [
    {
     "data": {
      "text/plain": [
       "TensorShape([6, 1])"
      ]
     },
     "execution_count": 17,
     "metadata": {},
     "output_type": "execute_result"
    }
   ],
   "source": [
    "X= tf.constant([[8],\n",
    "                [9],\n",
    "                [10],\n",
    "                [11],\n",
    "                [21],\n",
    "                [23]])\n",
    "X.shape"
   ]
  },
  {
   "cell_type": "code",
   "execution_count": 18,
   "metadata": {
    "colab": {
     "base_uri": "https://localhost:8080/"
    },
    "id": "qVsOX6fV3Cqc",
    "outputId": "7d168056-602c-438e-dc73-df3b063e1545"
   },
   "outputs": [
    {
     "data": {
      "text/plain": [
       "TensorShape([6, 1])"
      ]
     },
     "execution_count": 18,
     "metadata": {},
     "output_type": "execute_result"
    }
   ],
   "source": [
    "W = tf.Variable([[10],\n",
    "                 [11],\n",
    "                 [12],\n",
    "                 [13],\n",
    "                 [14],\n",
    "                 [15]])\n",
    "W.shape"
   ]
  },
  {
   "cell_type": "code",
   "execution_count": 19,
   "metadata": {
    "colab": {
     "base_uri": "https://localhost:8080/"
    },
    "id": "aW5u9sGw3Vq3",
    "outputId": "172c452a-06a2-465e-c5f2-b261fd7b27ef"
   },
   "outputs": [
    {
     "data": {
      "text/plain": [
       "array([[10, 11, 12, 13, 14, 15]])"
      ]
     },
     "execution_count": 19,
     "metadata": {},
     "output_type": "execute_result"
    }
   ],
   "source": [
    "WT = tf.transpose(W)\n",
    "WT.numpy()"
   ]
  },
  {
   "cell_type": "code",
   "execution_count": 20,
   "metadata": {
    "colab": {
     "base_uri": "https://localhost:8080/"
    },
    "id": "5sgZnRLb4mmC",
    "outputId": "2bcdc424-8533-46ae-ab9b-49a181a2f916"
   },
   "outputs": [
    {
     "data": {
      "text/plain": [
       "<tf.Tensor: shape=(1, 1), dtype=int32, numpy=array([[1081]])>"
      ]
     },
     "execution_count": 20,
     "metadata": {},
     "output_type": "execute_result"
    }
   ],
   "source": [
    "# Y = WT*X+bias\n",
    "tf.tensordot(WT , X, axes = 1)"
   ]
  },
  {
   "cell_type": "code",
   "execution_count": 21,
   "metadata": {
    "colab": {
     "base_uri": "https://localhost:8080/"
    },
    "id": "rYOEWiH14pgT",
    "outputId": "37838f29-d663-40cc-9543-d6777947366d"
   },
   "outputs": [
    {
     "data": {
      "text/plain": [
       "<tf.Tensor: shape=(6, 6), dtype=int32, numpy=\n",
       "array([[ 80,  88,  96, 104, 112, 120],\n",
       "       [ 90,  99, 108, 117, 126, 135],\n",
       "       [100, 110, 120, 130, 140, 150],\n",
       "       [110, 121, 132, 143, 154, 165],\n",
       "       [210, 231, 252, 273, 294, 315],\n",
       "       [230, 253, 276, 299, 322, 345]])>"
      ]
     },
     "execution_count": 21,
     "metadata": {},
     "output_type": "execute_result"
    }
   ],
   "source": [
    "tf.tensordot(X, WT, axes = 1)"
   ]
  },
  {
   "cell_type": "code",
   "execution_count": 22,
   "metadata": {
    "colab": {
     "base_uri": "https://localhost:8080/"
    },
    "id": "3rYeuV2E5Nrx",
    "outputId": "c168fc4d-0066-4e33-ce5d-2c26e4ee17f2"
   },
   "outputs": [
    {
     "data": {
      "text/plain": [
       "<tf.Tensor: shape=(6, 1, 1, 6), dtype=int32, numpy=\n",
       "array([[[[ 80,  88,  96, 104, 112, 120]]],\n",
       "\n",
       "\n",
       "       [[[ 90,  99, 108, 117, 126, 135]]],\n",
       "\n",
       "\n",
       "       [[[100, 110, 120, 130, 140, 150]]],\n",
       "\n",
       "\n",
       "       [[[110, 121, 132, 143, 154, 165]]],\n",
       "\n",
       "\n",
       "       [[[210, 231, 252, 273, 294, 315]]],\n",
       "\n",
       "\n",
       "       [[[230, 253, 276, 299, 322, 345]]]])>"
      ]
     },
     "execution_count": 22,
     "metadata": {},
     "output_type": "execute_result"
    }
   ],
   "source": [
    "tf.tensordot(X, WT, axes = 0)"
   ]
  },
  {
   "cell_type": "markdown",
   "metadata": {
    "id": "WOrVyQ3-6oLd"
   },
   "source": [
    "#Keras is high level API based on Tensorflow, to create deep level learning neural network easily. Dense Neural Network(DNN),CNN And RNN"
   ]
  },
  {
   "cell_type": "code",
   "execution_count": null,
   "metadata": {
    "id": "_TO1Jjcd6iVY"
   },
   "outputs": [],
   "source": []
  }
 ],
 "metadata": {
  "colab": {
   "provenance": []
  },
  "kernelspec": {
   "display_name": "Python 3 (ipykernel)",
   "language": "python",
   "name": "python3"
  },
  "language_info": {
   "codemirror_mode": {
    "name": "ipython",
    "version": 3
   },
   "file_extension": ".py",
   "mimetype": "text/x-python",
   "name": "python",
   "nbconvert_exporter": "python",
   "pygments_lexer": "ipython3",
   "version": "3.11.1"
  }
 },
 "nbformat": 4,
 "nbformat_minor": 4
}
